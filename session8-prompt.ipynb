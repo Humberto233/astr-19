{
 "cells": [
  {
   "cell_type": "code",
   "execution_count": null,
   "id": "8de19c3e-5817-4845-acd3-96033022ad7f",
   "metadata": {},
   "outputs": [],
   "source": [
    "import numpy as np\n",
    "import matplotlib.pyplot as plt\n",
    "\n",
    "x = np.linspace(0, 1, 100)"
   ]
  },
  {
   "cell_type": "code",
   "execution_count": null,
   "id": "3c161606-8413-4dfb-b54a-63bff4631871",
   "metadata": {
    "tags": []
   },
   "outputs": [],
   "source": [
    "def sin_func(x):\n",
    "    return np.sin(x)\n",
    "\n",
    "def cos_func(x):\n",
    "    return np.cos(x)\n",
    "\n",
    "fig, (ax1, ax2) = plt.subplots(1, 2, figsize=(10, 4))\n",
    "\n",
    "y_sin = sin_func(x)\n",
    "y_cos = cos_func(x)\n",
    "\n",
    "ax1.plot(x, y_sin, color='blue')\n",
    "ax1.set_title(\"sin(x)\")\n",
    "ax1.set_xlabel(\"x\")\n",
    "ax1.set_ylabel(\"sin(x)\")\n",
    "\n",
    "ax2.plot(x, y_cos, color='red')\n",
    "ax2.set_title(\"cos(x)\")\n",
    "ax2.set_xlabel(\"x\")\n",
    "ax2.set_ylabel(\"cos(x)\")\n",
    "\n",
    "plt.tight_layout()\n",
    "plt.savefig(\"sin_cos_plot.pdf\")\n",
    "plt.show()"
   ]
  },
  {
   "cell_type": "code",
   "execution_count": null,
   "id": "84f92aee-2595-4b0c-b6a5-175f4e4def6f",
   "metadata": {},
   "outputs": [],
   "source": []
  }
 ],
 "metadata": {
  "kernelspec": {
   "display_name": "",
   "name": ""
  },
  "language_info": {
   "name": ""
  }
 },
 "nbformat": 4,
 "nbformat_minor": 5
}
